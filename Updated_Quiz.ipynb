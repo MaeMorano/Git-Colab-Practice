{
  "nbformat": 4,
  "nbformat_minor": 0,
  "metadata": {
    "colab": {
      "name": "Updated Quiz.ipynb",
      "provenance": [],
      "authorship_tag": "ABX9TyMzMgCIx5HRDl0YzVsEz+O8",
      "include_colab_link": true
    },
    "kernelspec": {
      "name": "python3",
      "display_name": "Python 3"
    }
  },
  "cells": [
    {
      "cell_type": "markdown",
      "metadata": {
        "id": "view-in-github",
        "colab_type": "text"
      },
      "source": [
        "<a href=\"https://colab.research.google.com/github/MaeMorano/Git-Colab-Practice/blob/master/Updated_Quiz.ipynb\" target=\"_parent\"><img src=\"https://colab.research.google.com/assets/colab-badge.svg\" alt=\"Open In Colab\"/></a>"
      ]
    },
    {
      "cell_type": "markdown",
      "metadata": {
        "id": "baJHY9VYsClW"
      },
      "source": [
        "###Creating a Json File"
      ]
    },
    {
      "cell_type": "code",
      "metadata": {
        "id": "CpaS-BR7r3Jn"
      },
      "source": [
        "#Sample Question\n",
        "questions_db = [{ \"Question\" : \"What position does Harry play in the Quidditch team?\",\n",
        "                  \"A\" : \"Seeker\",\n",
        "                  \"B\" : \"Sweeper\",\n",
        "                  \"C\" : \"Hitter\",\n",
        "                  \"Answer\" : \"A\"},\n",
        "                { \"Question\" : \"Which class has a different teacher every year?\",\n",
        "                  \"A\" : \"Potions\",\n",
        "                  \"B\" : \"Divination\",\n",
        "                  \"C\" : \"Defense Against Dark Arts\",\n",
        "                  \"Answer\" : \"C\"}]"
      ],
      "execution_count": 2,
      "outputs": []
    },
    {
      "cell_type": "code",
      "metadata": {
        "id": "cVJRtmrZsJZf"
      },
      "source": [
        "import json\n",
        "import ast"
      ],
      "execution_count": 3,
      "outputs": []
    },
    {
      "cell_type": "code",
      "metadata": {
        "id": "Vuqfz50fsRIK"
      },
      "source": [
        "#Creating the Json file\n",
        "jsonfile = open('questions.json', 'w')\n",
        "json.dump(questions_db,jsonfile)\n",
        "jsonfile.close()"
      ],
      "execution_count": 4,
      "outputs": []
    },
    {
      "cell_type": "code",
      "metadata": {
        "id": "ZJ0Oka_GsXqK",
        "outputId": "23217560-0442-4138-f0dd-19418180c5a7",
        "colab": {
          "base_uri": "https://localhost:8080/",
          "height": 51
        }
      },
      "source": [
        "#Reading the Json file to check if the questions are properly loaded\n",
        "questions_json = open('questions.json', 'r')\n",
        "new_db = json.load(questions_json)\n",
        "questions_json.close()\n",
        "\n",
        "for keys in new_db:\n",
        "  print(keys)"
      ],
      "execution_count": 5,
      "outputs": [
        {
          "output_type": "stream",
          "text": [
            "{'Question': 'What position does Harry play in the Quidditch team?', 'A': 'Seeker', 'B': 'Sweeper', 'C': 'Hitter', 'Answer': 'A'}\n",
            "{'Question': 'Which class has a different teacher every year?', 'A': 'Potions', 'B': 'Divination', 'C': 'Defense Against Dark Arts', 'Answer': 'C'}\n"
          ],
          "name": "stdout"
        }
      ]
    },
    {
      "cell_type": "markdown",
      "metadata": {
        "id": "J-4DhswetDIU"
      },
      "source": [
        "###Creating the Add, Edit, and Delete Function for the Json file\n",
        "\n",
        "\n"
      ]
    },
    {
      "cell_type": "code",
      "metadata": {
        "id": "acbP4YEKtHwq"
      },
      "source": [
        "#Selecting a question to delete or edit function\n",
        "def select_question(questions_db):\n",
        "  select_ans = input(f'Select a question?Y/N \\n').upper()\n",
        "  while select_ans == 'Y':\n",
        "    i = 0\n",
        "    for i in range(len(questions_db)):\n",
        "      num = i + 1\n",
        "      questions_list = questions_db[i]['Question']\n",
        "      print(f'{num}: {questions_list}')\n",
        "      i = i + 1\n",
        "      try:\n",
        "        j = int(input(f'Choose the question\\'s number that you want: \\n '))\n",
        "        k = j - 1\n",
        "        if k > -1:\n",
        "          return (k)\n",
        "        else:\n",
        "          print(f'No Question in that number.')\n",
        "      except:\n",
        "        print(f'Sorry, no question in that number')\n",
        "    select_ans = input(f'Select a question?Y/N \\n').upper()\n",
        "  game_on(questions_db)\n",
        "\n",
        "#Delete a Question Function\n",
        "def delete_questions(questions_db):\n",
        "  delete_ans = input(f'Delete a question?Y/N \\n').upper()\n",
        "  while delete_ans == 'Y':\n",
        "    id_num = select_question(question_db)\n",
        "    del (questions_db[id_num])\n",
        "    print(f'Question has been deleted')\n",
        "  game_on(questions_db)\n",
        "\n",
        "#Edit Function\n",
        "def edit_questions(questions_db):\n",
        "  edit_ans = input(f'Edit a question?Y/N \\n').upper()\n",
        "  while edit_ans == 'Y':\n",
        "    id_num = select_question(questions_db)\n",
        "    edit_choices = int(input(f'Choose number to edit \\n\\t1.Question \\n\\t2.Choice A \\n\\t3.Choice B \\n\\t4.Choice C \\n\\t5.Answer\\n'))\n",
        "    if edit_choices == 1:\n",
        "      new_question = input(f'Enter new question here: \\n')\n",
        "      print(new_question)\n",
        "      questions_db[id_num]['Questions'] = new_question\n",
        "      edit_ans = input(f'Edit a question?Y/N \\n').upper()\n",
        "    elif edit_choices == 2:\n",
        "      new_A = input(f'Enter new choice A here: \\n')\n",
        "      print(new_A)\n",
        "      questions_db[id_num]['A'] = new_A\n",
        "      edit_ans = input(f'Edit a question?Y/N \\n').upper()\n",
        "    elif edit_choices == 3:\n",
        "      new_B = input(f'Enter new choice A here: \\n')\n",
        "      print(new_B)\n",
        "      questions_db[id_num]['B'] = new_B\n",
        "      edit_ans = input(f'Edit a question?Y/N \\n').upper()\n",
        "    elif edit_choices == 4:\n",
        "      new_C = input(f'Enter new choice C here: \\n')\n",
        "      print(new_C)\n",
        "      questions_db[id_num]['C'] = new_C\n",
        "      edit_ans = input(f'Edit a question?Y/N \\n').upper()\n",
        "    elif edit_choices == 5:\n",
        "      new_ans = input(f'Enter new Answer here: \\n').upper()\n",
        "      print(new_ans)\n",
        "      questions_db[id_num]['Answer'] = new_ans\n",
        "      edit_ans = input(f'Edit a question?Y/N \\n').upper()\n",
        "    else:\n",
        "      edit_ans = input(f'Edit a question?Y/N \\n').upper()\n",
        "  game_on(questions_db)\n",
        "\n",
        "#Adding a new question function\n",
        "def add_questions(questions_db):\n",
        "  add_question = input(f'Add another question?Y/N\\n').upper()\n",
        "  while add_question == 'Y':\n",
        "    question_sample = input(f'Enter Question:')\n",
        "    choice_a = input(f'Enter A:')\n",
        "    choice_b = input(f'Enter B:')\n",
        "    choice_c = input(f'Enter C:')\n",
        "    answer = input(f'Answer: \\n').upper()\n",
        "    questions_list = f'{{\\'Question\\': \\'{question_sample}\\',\\'A\\': \\'{choice_a}\\',\\'B\\': \\'{choice_b}\\',\\'C\\': \\'{choice_c}\\',\\'Answer\\': \\'{answer}\\'}}'\n",
        "    question_dict = eval(questions_list)\n",
        "    questions_db.append(question_dict)\n",
        "    add_question = input(f'Add another question?Y/N \\n').upper()\n",
        "  game_on(questions_db)"
      ],
      "execution_count": 10,
      "outputs": []
    },
    {
      "cell_type": "markdown",
      "metadata": {
        "id": "5ac5jpzSssVq"
      },
      "source": [
        "###Creating the functons to prompt the Quiz"
      ]
    },
    {
      "cell_type": "code",
      "metadata": {
        "id": "41KYfkZksqPy"
      },
      "source": [
        "#Function to list all the questions from the Json file\n",
        "def list_questions(questions):\n",
        "  user_answers = []\n",
        "  i = 0\n",
        "  for i in range(len(questions)):\n",
        "    num = i + 1\n",
        "    question_list = questions[i]['Question']\n",
        "    print(f'{num}: {question_list}')\n",
        "    A = questions[i]['A']\n",
        "    B = questions[i]['B']\n",
        "    C = questions[i]['C']\n",
        "    print(f'\\tA.{A} \\n\\tB.{B} \\n\\tC.{C}')\n",
        "    answer = (input(\"Enter answer: \")).upper()\n",
        "    print(f'Your answer is: {answer} \\n')\n",
        "    user_answers.append(answer)\n",
        "    i = i + 1\n",
        "  return (user_answers)\n",
        "\n",
        "#Function the determines if the user passed or fail the game\n",
        "def pass_fail(score):\n",
        "  if score >= 70:\n",
        "    print(f'Your score is {int(score)}% .You Passed! \\n')\n",
        "  else:\n",
        "    print(f'Your score is {int(score)}% . We will be deducting 10 points from your house. \\n')\n",
        "\n",
        "#Function that computes the scores of the user from the quiz\n",
        "def compute_score(user_answers, answers):\n",
        "  correct = 0\n",
        "  wrong = 0\n",
        "  i = 0\n",
        "  for i in range(len(user_answers)):\n",
        "    if user_answers[i] == answers[i][\"Answer\"].upper():\n",
        "      correct = correct + 1\n",
        "    else:\n",
        "      wrong = wrong + 1\n",
        "\n",
        "  score = ((correct)/(correct + wrong )) * 100\n",
        "  return (score)\n",
        "\n",
        "#Function that starts the entire \n",
        "def start_question(quiz_data):\n",
        "  user_answer = list_questions(quiz_data)\n",
        "  score = compute_score(user_answer, quiz_data)\n",
        "  pass_fail(score)\n",
        "  return (score)\n",
        "\n",
        "#Function that gets the player name\n",
        "def get_playerName():\n",
        "  player_name = input(f'Enter your name:' ).upper()\n",
        "  print(f'Hi {player_name}! \\n')\n",
        "  return (player_name)\n",
        "\n",
        "#Function that prints the player scores after the having several retaking of the quiz.\n",
        "#The score resets when the game is ended.\n",
        "def list_playerScore(player,scores):\n",
        "  num = len(player)\n",
        "  i = num - 5\n",
        "  for i in range(num):\n",
        "    player_name = player[i]\n",
        "    player_score = int(scores[i])\n",
        "    print(f'{player_name} score: {player_score}%')\n",
        "  print('\\n')\n",
        "\n",
        "#Function that starts the quiz.\n",
        "def start_quiz(quiz_data):\n",
        "  list_player = []\n",
        "  list_score = []\n",
        "  start_answer = input(f'\\nDo you wanna play?Y/N: \\n').upper()\n",
        "  while start_answer == 'Y':\n",
        "    name = get_playerName()\n",
        "    list_player.append(name)\n",
        "    score = start_question(quiz_data)\n",
        "    list_score.append(score)\n",
        "    print('****************************************************************************************')\n",
        "    start_answer = input(f'Do you wanna play a new Game?Y/N: \\n').upper()\n",
        "  print(f'\\nThank you for playing')\n",
        "  list_playerScore(list_player, list_score)\n",
        "  print('****************************************************************************************')\n",
        "  game_on(quiz_data)\n",
        "\n"
      ],
      "execution_count": 7,
      "outputs": []
    },
    {
      "cell_type": "markdown",
      "metadata": {
        "id": "gERcFx6hs5Xa"
      },
      "source": [
        "###Creating the Quiz"
      ]
    },
    {
      "cell_type": "code",
      "metadata": {
        "id": "AtHDgD6ms3_P"
      },
      "source": [
        "#Function that starts the entire game. You can play quiz or edit/add questions to the quiz.\n",
        "def game_on(quiz_data):\n",
        "  player_answer = input(f'Choose what you want to do: \\n\\t1:Play Game \\n\\t2.Add Questions \\n\\t3.Edit a Question \\n\\t4.Delete Questions \\n\\t5.Exit \\n')\n",
        "  if player_answer == '1':\n",
        "    start_quiz(quiz_data)\n",
        "  elif player_answer == '2':\n",
        "    add_questions(quiz_data)\n",
        "  elif player_answer == '3':\n",
        "    edit_questions(quiz_data)\n",
        "  elif player_answer == '4':\n",
        "    delete_questions(quiz_data)\n",
        "  else:\n",
        "    print('Thank you for stopping by')"
      ],
      "execution_count": 8,
      "outputs": []
    },
    {
      "cell_type": "markdown",
      "metadata": {
        "id": "A2R_cIIXtT5Z"
      },
      "source": [
        "###Running the Quiz"
      ]
    },
    {
      "cell_type": "code",
      "metadata": {
        "id": "hJ1XchbotWkX",
        "outputId": "a93d7c2b-6d92-44d4-8cd5-34aeda6ff8ae",
        "colab": {
          "base_uri": "https://localhost:8080/",
          "height": 799
        }
      },
      "source": [
        "game_on(new_db)"
      ],
      "execution_count": 9,
      "outputs": [
        {
          "output_type": "stream",
          "text": [
            "Choose what you want to do: \n",
            "\t1:Play Game \n",
            "\t2.Add Questions \n",
            "\t3.Edit a Question \n",
            "\t4.Delete Questions \n",
            "\t5.Exit \n",
            "1\n",
            "\n",
            "Do you wanna play?Y/N: \n",
            "y\n",
            "Enter your name:mae\n",
            "Hi MAE! \n",
            "\n",
            "1: What position does Harry play in the Quidditch team?\n",
            "\tA.Seeker \n",
            "\tB.Sweeper \n",
            "\tC.Hitter\n",
            "Enter answer: a\n",
            "Your answer is: A \n",
            "\n",
            "2: Which class has a different teacher every year?\n",
            "\tA.Potions \n",
            "\tB.Divination \n",
            "\tC.Defense Against Dark Arts\n",
            "Enter answer: c\n",
            "Your answer is: C \n",
            "\n",
            "Your score is 100% .You Passed! \n",
            "\n",
            "****************************************************************************************\n",
            "Do you wanna play a new Game?Y/N: \n",
            "n\n",
            "\n",
            "Thank you for playing\n",
            "MAE score: 100%\n",
            "\n",
            "\n",
            "****************************************************************************************\n",
            "Choose what you want to do: \n",
            "\t1:Play Game \n",
            "\t2.Add Questions \n",
            "\t3.Edit a Question \n",
            "\t4.Delete Questions \n",
            "\t5.Exit \n",
            "5\n",
            "Thank you for stopping by\n"
          ],
          "name": "stdout"
        }
      ]
    }
  ]
}